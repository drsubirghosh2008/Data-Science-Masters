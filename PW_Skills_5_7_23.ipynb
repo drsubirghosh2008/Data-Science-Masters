{
  "nbformat": 4,
  "nbformat_minor": 0,
  "metadata": {
    "colab": {
      "provenance": []
    },
    "kernelspec": {
      "name": "python3",
      "display_name": "Python 3"
    },
    "language_info": {
      "name": "python"
    }
  },
  "cells": [
    {
      "cell_type": "code",
      "execution_count": null,
      "metadata": {
        "id": "Psqn7o2zxo2Y"
      },
      "outputs": [],
      "source": [
        "a=10\n",
        "if a>10:\n",
        "   pass"
      ]
    },
    {
      "cell_type": "code",
      "source": [
        "a>10"
      ],
      "metadata": {
        "colab": {
          "base_uri": "https://localhost:8080/"
        },
        "id": "qytpZGHVyy-2",
        "outputId": "353f5d3c-152a-46d3-c78d-ab38c75e7aee"
      },
      "execution_count": null,
      "outputs": [
        {
          "output_type": "execute_result",
          "data": {
            "text/plain": [
              "False"
            ]
          },
          "metadata": {},
          "execution_count": 7
        }
      ]
    },
    {
      "cell_type": "code",
      "source": [
        "n=10\n",
        "i=1\n",
        "while i<n:\n",
        "  print(i)\n",
        "  i=i+1\n",
        "else:\n",
        "  print(\"this will be executed once while will complete it successfully\")"
      ],
      "metadata": {
        "colab": {
          "base_uri": "https://localhost:8080/"
        },
        "id": "tRd_CiPJ47ZX",
        "outputId": "447de292-621d-4700-bd70-d1fcbe918dc0"
      },
      "execution_count": null,
      "outputs": [
        {
          "output_type": "stream",
          "name": "stdout",
          "text": [
            "1\n",
            "2\n",
            "3\n",
            "4\n",
            "5\n",
            "6\n",
            "7\n",
            "8\n",
            "9\n",
            "this will be executed once while will complete it successfully\n"
          ]
        }
      ]
    },
    {
      "cell_type": "code",
      "source": [
        "n=10\n",
        "i=1\n",
        "while i<n:\n",
        "  print(i)\n",
        "  i=i+1\n",
        "  if i==3:\n",
        "    break\n",
        "else:\n",
        "  print(\"this will be executed once while will complete it successfully\")\n"
      ],
      "metadata": {
        "colab": {
          "base_uri": "https://localhost:8080/"
        },
        "id": "UlQjBQcN7XMA",
        "outputId": "cf4c4422-418d-4f74-a394-172663c42de4"
      },
      "execution_count": null,
      "outputs": [
        {
          "output_type": "stream",
          "name": "stdout",
          "text": [
            "1\n",
            "2\n"
          ]
        }
      ]
    },
    {
      "cell_type": "code",
      "source": [
        "n=10\n",
        "i=1\n",
        "while i<n:\n",
        "  print(i)\n",
        "  i=i+1\n",
        "  if i==3:\n",
        "   continue\n",
        "else:\n",
        "  print(\"this will be executed once while will complete it successfully\")"
      ],
      "metadata": {
        "colab": {
          "base_uri": "https://localhost:8080/"
        },
        "id": "m6Bu5TCG16_R",
        "outputId": "d5eb253f-4a4d-49ff-e348-6890d448a83e"
      },
      "execution_count": null,
      "outputs": [
        {
          "output_type": "stream",
          "name": "stdout",
          "text": [
            "1\n",
            "2\n",
            "3\n",
            "4\n",
            "5\n",
            "6\n",
            "7\n",
            "8\n",
            "9\n",
            "this will be executed once while will complete it successfully\n"
          ]
        }
      ]
    },
    {
      "cell_type": "code",
      "source": [
        "n=10\n",
        "i=1\n",
        "while i<n:\n",
        "  print(i)\n",
        "  i=i+1\n",
        "  if i==3:\n",
        "     continue\n",
        "  print(i)\n",
        "else:\n",
        "  print(\"this will be executed once while will complete it successfully\")"
      ],
      "metadata": {
        "colab": {
          "base_uri": "https://localhost:8080/"
        },
        "id": "OtaKHwfW4Eyn",
        "outputId": "bcdae9fe-d7ee-46df-f406-bedcb6bb766c"
      },
      "execution_count": null,
      "outputs": [
        {
          "output_type": "stream",
          "name": "stdout",
          "text": [
            "1\n",
            "2\n",
            "2\n",
            "3\n",
            "4\n",
            "4\n",
            "5\n",
            "5\n",
            "6\n",
            "6\n",
            "7\n",
            "7\n",
            "8\n",
            "8\n",
            "9\n",
            "9\n",
            "10\n",
            "this will be executed once while will complete it successfully\n"
          ]
        }
      ]
    },
    {
      "cell_type": "code",
      "source": [
        "s =\"sudh\"\n",
        "for i in s:\n",
        "    print(i)"
      ],
      "metadata": {
        "colab": {
          "base_uri": "https://localhost:8080/"
        },
        "id": "t3vWS47i5WAX",
        "outputId": "b80359cd-bd14-40b4-9e6e-66ed54871876"
      },
      "execution_count": null,
      "outputs": [
        {
          "output_type": "stream",
          "name": "stdout",
          "text": [
            "s\n",
            "u\n",
            "d\n",
            "h\n"
          ]
        }
      ]
    },
    {
      "cell_type": "code",
      "source": [
        "l=[34,56,67,\"pwskills\", \"True\", (56+67), 5+6j]\n",
        "for t in l:\n",
        "  print(t)"
      ],
      "metadata": {
        "colab": {
          "base_uri": "https://localhost:8080/"
        },
        "id": "Y-wHNhPw6qep",
        "outputId": "00cb80fa-9f61-44bc-81dc-71c479e84d08"
      },
      "execution_count": null,
      "outputs": [
        {
          "output_type": "stream",
          "name": "stdout",
          "text": [
            "34\n",
            "56\n",
            "67\n",
            "pwskills\n",
            "True\n",
            "123\n",
            "(5+6j)\n"
          ]
        }
      ]
    },
    {
      "cell_type": "code",
      "source": [
        "l=[34,56,67,\"pwskills\", True, (56+67), (5+6j)]\n",
        "for t in l:\n",
        "  print(t)"
      ],
      "metadata": {
        "colab": {
          "base_uri": "https://localhost:8080/"
        },
        "id": "osUBjYKz8X5K",
        "outputId": "a9070bd6-2433-4972-fdae-40a14f053185"
      },
      "execution_count": null,
      "outputs": [
        {
          "output_type": "stream",
          "name": "stdout",
          "text": [
            "34\n",
            "56\n",
            "67\n",
            "pwskills\n",
            "True\n",
            "123\n",
            "(5+6j)\n"
          ]
        }
      ]
    },
    {
      "cell_type": "code",
      "source": [
        "l=[34,56,67,\"pwskills\", True, (56+67), (5+6j)]\n",
        "for t in l:\n",
        "  print (t)\n",
        "  if t == \"pwskills\":\n",
        "    continue\n",
        "else:\n",
        "  print(\"this will be executed once\")"
      ],
      "metadata": {
        "colab": {
          "base_uri": "https://localhost:8080/"
        },
        "id": "4OVvJHVg8jBt",
        "outputId": "0c6e0f2c-ca3b-49bb-f9ef-ca34216a241e"
      },
      "execution_count": null,
      "outputs": [
        {
          "output_type": "stream",
          "name": "stdout",
          "text": [
            "34\n",
            "56\n",
            "67\n",
            "pwskills\n",
            "True\n",
            "123\n",
            "(5+6j)\n",
            "this will be executed once\n"
          ]
        }
      ]
    },
    {
      "cell_type": "code",
      "source": [
        "l=[34,56,67,\"pwskills\", True, (56+67), (5+6j)]\n",
        "for t in l:\n",
        "  print (t)\n",
        "  if t == \"pwskills\":\n",
        "    break\n",
        "else:\n",
        "  print(\"this will be executed once\")"
      ],
      "metadata": {
        "colab": {
          "base_uri": "https://localhost:8080/"
        },
        "id": "Jv5H4ex7_aVj",
        "outputId": "5f844e35-1dde-4fa2-821e-9464c3e72feb"
      },
      "execution_count": null,
      "outputs": [
        {
          "output_type": "stream",
          "name": "stdout",
          "text": [
            "34\n",
            "56\n",
            "67\n",
            "pwskills\n"
          ]
        }
      ]
    },
    {
      "cell_type": "code",
      "source": [
        "range(10)"
      ],
      "metadata": {
        "colab": {
          "base_uri": "https://localhost:8080/"
        },
        "id": "DTC7dY2F_wqh",
        "outputId": "2acdbf6a-206f-489d-fc09-414c4bc8dc28"
      },
      "execution_count": null,
      "outputs": [
        {
          "output_type": "execute_result",
          "data": {
            "text/plain": [
              "range(0, 10)"
            ]
          },
          "metadata": {},
          "execution_count": 31
        }
      ]
    },
    {
      "cell_type": "code",
      "source": [
        "list(range(10))"
      ],
      "metadata": {
        "colab": {
          "base_uri": "https://localhost:8080/"
        },
        "id": "lz2LFnkiAF1R",
        "outputId": "9e6f1518-3b87-40bf-dded-df1e905af8fe"
      },
      "execution_count": null,
      "outputs": [
        {
          "output_type": "execute_result",
          "data": {
            "text/plain": [
              "[0, 1, 2, 3, 4, 5, 6, 7, 8, 9]"
            ]
          },
          "metadata": {},
          "execution_count": 3
        }
      ]
    },
    {
      "cell_type": "code",
      "source": [
        "a=10\n",
        "a\n"
      ],
      "metadata": {
        "id": "xUlNH-SgAQlB",
        "colab": {
          "base_uri": "https://localhost:8080/"
        },
        "outputId": "ec17ef50-d46a-476f-e1f1-d03cfd5f4f18"
      },
      "execution_count": null,
      "outputs": [
        {
          "output_type": "execute_result",
          "data": {
            "text/plain": [
              "10"
            ]
          },
          "metadata": {},
          "execution_count": 1
        }
      ]
    },
    {
      "cell_type": "code",
      "source": [
        "\"This is the intro session\""
      ],
      "metadata": {
        "colab": {
          "base_uri": "https://localhost:8080/",
          "height": 35
        },
        "id": "eA8JLYOyHtfy",
        "outputId": "12b14cf6-b6b4-42c4-da8b-398bfb77a03e"
      },
      "execution_count": null,
      "outputs": [
        {
          "output_type": "execute_result",
          "data": {
            "text/plain": [
              "'This is the intro session'"
            ],
            "application/vnd.google.colaboratory.intrinsic+json": {
              "type": "string"
            }
          },
          "metadata": {},
          "execution_count": 3
        }
      ]
    },
    {
      "cell_type": "code",
      "source": [
        "'This is the intro session'"
      ],
      "metadata": {
        "colab": {
          "base_uri": "https://localhost:8080/",
          "height": 35
        },
        "id": "j0y0eEYQH3lo",
        "outputId": "1dd44921-1fed-4f4f-c381-acf05e5186a7"
      },
      "execution_count": null,
      "outputs": [
        {
          "output_type": "execute_result",
          "data": {
            "text/plain": [
              "'This is the intro session'"
            ],
            "application/vnd.google.colaboratory.intrinsic+json": {
              "type": "string"
            }
          },
          "metadata": {},
          "execution_count": 4
        }
      ]
    },
    {
      "cell_type": "code",
      "source": [
        "## this is a function"
      ],
      "metadata": {
        "id": "gpEsujg3J2N5"
      },
      "execution_count": null,
      "outputs": []
    },
    {
      "cell_type": "code",
      "source": [
        "## this is a function\n",
        "a=20\n",
        "print(a)"
      ],
      "metadata": {
        "colab": {
          "base_uri": "https://localhost:8080/"
        },
        "id": "J704uyQlJ6ho",
        "outputId": "bf38f349-efa1-46c0-9f87-d72c57b852be"
      },
      "execution_count": null,
      "outputs": [
        {
          "output_type": "stream",
          "name": "stdout",
          "text": [
            "20\n"
          ]
        }
      ]
    },
    {
      "cell_type": "code",
      "source": [
        "## Python documentation comments: https://realpython.com/documenting-python-code/"
      ],
      "metadata": {
        "id": "R0oa-7lTKBSI"
      },
      "execution_count": null,
      "outputs": []
    },
    {
      "cell_type": "code",
      "source": [],
      "metadata": {
        "id": "ipKbtHgDLnP4"
      },
      "execution_count": null,
      "outputs": []
    },
    {
      "cell_type": "markdown",
      "source": [
        "## hello\n",
        "hello1\n",
        "hello2"
      ],
      "metadata": {
        "id": "9K0U9JJbNOXA"
      }
    },
    {
      "cell_type": "code",
      "source": [],
      "metadata": {
        "id": "bcMYWuLzOQYY"
      },
      "execution_count": null,
      "outputs": []
    },
    {
      "cell_type": "markdown",
      "source": [
        "Numbers"
      ],
      "metadata": {
        "id": "JWEVjFYJPzAQ"
      }
    },
    {
      "cell_type": "code",
      "source": [
        "1+3"
      ],
      "metadata": {
        "colab": {
          "base_uri": "https://localhost:8080/"
        },
        "id": "oQHAaFVeP2XR",
        "outputId": "d77753b7-377c-4c9c-87de-90401d634259"
      },
      "execution_count": null,
      "outputs": [
        {
          "output_type": "execute_result",
          "data": {
            "text/plain": [
              "4"
            ]
          },
          "metadata": {},
          "execution_count": 10
        }
      ]
    },
    {
      "cell_type": "code",
      "source": [
        "print(1+3)"
      ],
      "metadata": {
        "colab": {
          "base_uri": "https://localhost:8080/"
        },
        "id": "_7RIxrZmP5dP",
        "outputId": "81234753-d648-46e9-f2d7-32d0dec12877"
      },
      "execution_count": null,
      "outputs": [
        {
          "output_type": "stream",
          "name": "stdout",
          "text": [
            "4\n"
          ]
        }
      ]
    },
    {
      "cell_type": "code",
      "source": [
        "print(\"hello world\")"
      ],
      "metadata": {
        "colab": {
          "base_uri": "https://localhost:8080/"
        },
        "id": "VbQwycu7P95n",
        "outputId": "1d19a920-556e-467f-8519-721a67f47233"
      },
      "execution_count": null,
      "outputs": [
        {
          "output_type": "stream",
          "name": "stdout",
          "text": [
            "hello world\n"
          ]
        }
      ]
    },
    {
      "cell_type": "code",
      "source": [
        "print(\"hello world my name is subirghosh \\n I am learning \\n data \\n science\")"
      ],
      "metadata": {
        "colab": {
          "base_uri": "https://localhost:8080/"
        },
        "id": "wf-zEfHXQq7X",
        "outputId": "5bf2b0d6-f2fb-4503-82e0-2df50b1147e6"
      },
      "execution_count": null,
      "outputs": [
        {
          "output_type": "stream",
          "name": "stdout",
          "text": [
            "hello world my name is subirghosh \n",
            " I am learning \n",
            " data \n",
            " science\n"
          ]
        }
      ]
    },
    {
      "cell_type": "code",
      "source": [],
      "metadata": {
        "id": "dhIyQGUySYHS"
      },
      "execution_count": null,
      "outputs": []
    },
    {
      "cell_type": "markdown",
      "source": [
        "## Variable Assignments"
      ],
      "metadata": {
        "id": "bPgIfKO5TUph"
      }
    },
    {
      "cell_type": "code",
      "source": [
        "name='subir'\n",
        "company=\"NIMS\"\n",
        "type(\"\")"
      ],
      "metadata": {
        "colab": {
          "base_uri": "https://localhost:8080/"
        },
        "id": "vlVVP5lsTX9n",
        "outputId": "77534ae1-e399-44fb-d7e8-bfa9503ad177"
      },
      "execution_count": null,
      "outputs": [
        {
          "output_type": "execute_result",
          "data": {
            "text/plain": [
              "str"
            ]
          },
          "metadata": {},
          "execution_count": 28
        }
      ]
    },
    {
      "cell_type": "code",
      "source": [
        "name"
      ],
      "metadata": {
        "colab": {
          "base_uri": "https://localhost:8080/",
          "height": 35
        },
        "id": "bwIXI0HBTt1J",
        "outputId": "3c0cd1ab-80f3-4bc0-b658-36cc2e6f3899"
      },
      "execution_count": null,
      "outputs": [
        {
          "output_type": "execute_result",
          "data": {
            "text/plain": [
              "'subir'"
            ],
            "application/vnd.google.colaboratory.intrinsic+json": {
              "type": "string"
            }
          },
          "metadata": {},
          "execution_count": 23
        }
      ]
    },
    {
      "cell_type": "code",
      "source": [
        "company"
      ],
      "metadata": {
        "colab": {
          "base_uri": "https://localhost:8080/",
          "height": 35
        },
        "id": "u6lWQamBTvLR",
        "outputId": "2e592f56-24f1-4517-e2b6-c9983e66a646"
      },
      "execution_count": null,
      "outputs": [
        {
          "output_type": "execute_result",
          "data": {
            "text/plain": [
              "'NIMS'"
            ],
            "application/vnd.google.colaboratory.intrinsic+json": {
              "type": "string"
            }
          },
          "metadata": {},
          "execution_count": 24
        }
      ]
    },
    {
      "cell_type": "code",
      "source": [
        "type (\"name\")"
      ],
      "metadata": {
        "colab": {
          "base_uri": "https://localhost:8080/"
        },
        "id": "rmU5-YNzTxy2",
        "outputId": "dda67683-2330-4ad3-c671-c5cf2c26f941"
      },
      "execution_count": null,
      "outputs": [
        {
          "output_type": "execute_result",
          "data": {
            "text/plain": [
              "str"
            ]
          },
          "metadata": {},
          "execution_count": 32
        }
      ]
    },
    {
      "cell_type": "code",
      "source": [
        "number = 10\n",
        "type(number)"
      ],
      "metadata": {
        "colab": {
          "base_uri": "https://localhost:8080/"
        },
        "id": "24x20CKxU_VP",
        "outputId": "6f11a8ae-aafc-40a3-f224-eeb4f6dd1492"
      },
      "execution_count": null,
      "outputs": [
        {
          "output_type": "execute_result",
          "data": {
            "text/plain": [
              "int"
            ]
          },
          "metadata": {},
          "execution_count": 33
        }
      ]
    },
    {
      "cell_type": "code",
      "source": [
        "decimal_num = 2.5\n",
        "decimal_num"
      ],
      "metadata": {
        "colab": {
          "base_uri": "https://localhost:8080/"
        },
        "id": "g63SIyvZVDHm",
        "outputId": "dd001eab-8a85-41c8-b61a-8c755dc5c89f"
      },
      "execution_count": null,
      "outputs": [
        {
          "output_type": "execute_result",
          "data": {
            "text/plain": [
              "2.5"
            ]
          },
          "metadata": {},
          "execution_count": 34
        }
      ]
    },
    {
      "cell_type": "code",
      "source": [
        "type(decimal_num)"
      ],
      "metadata": {
        "colab": {
          "base_uri": "https://localhost:8080/"
        },
        "id": "QiMe_K9sV8MG",
        "outputId": "451d38a8-f169-4616-ccdc-62b50a5c46b2"
      },
      "execution_count": null,
      "outputs": [
        {
          "output_type": "execute_result",
          "data": {
            "text/plain": [
              "float"
            ]
          },
          "metadata": {},
          "execution_count": 35
        }
      ]
    },
    {
      "cell_type": "code",
      "source": [
        "print(1+2j)\n",
        "print"
      ],
      "metadata": {
        "colab": {
          "base_uri": "https://localhost:8080/"
        },
        "id": "2RmhflSjkkjt",
        "outputId": "c373460f-72bf-46ca-9dac-e2680de24d17"
      },
      "execution_count": null,
      "outputs": [
        {
          "output_type": "stream",
          "name": "stdout",
          "text": [
            "(1+2j)\n"
          ]
        },
        {
          "output_type": "execute_result",
          "data": {
            "text/plain": [
              "<function print>"
            ]
          },
          "metadata": {},
          "execution_count": 4
        }
      ]
    },
    {
      "cell_type": "code",
      "source": [
        "a=(1+2j)\n",
        "print(a)"
      ],
      "metadata": {
        "colab": {
          "base_uri": "https://localhost:8080/"
        },
        "id": "XrWr0HWRksZd",
        "outputId": "f6114e1e-d761-4c72-80d2-332524c2d7d5"
      },
      "execution_count": null,
      "outputs": [
        {
          "output_type": "stream",
          "name": "stdout",
          "text": [
            "(1+2j)\n"
          ]
        }
      ]
    },
    {
      "cell_type": "code",
      "source": [
        "a=1+2j\n",
        "print(a)"
      ],
      "metadata": {
        "colab": {
          "base_uri": "https://localhost:8080/"
        },
        "id": "HpgmXrzjk76k",
        "outputId": "bc783b68-0533-4b9b-d02b-90aec92d92a3"
      },
      "execution_count": null,
      "outputs": [
        {
          "output_type": "stream",
          "name": "stdout",
          "text": [
            "(1+2j)\n"
          ]
        }
      ]
    },
    {
      "cell_type": "code",
      "source": [
        "## Boolean\n",
        "True"
      ],
      "metadata": {
        "colab": {
          "base_uri": "https://localhost:8080/"
        },
        "id": "Bf9BOBZbk_8E",
        "outputId": "2b8bc717-3a3f-4929-a476-96332824fad0"
      },
      "execution_count": null,
      "outputs": [
        {
          "output_type": "execute_result",
          "data": {
            "text/plain": [
              "True"
            ]
          },
          "metadata": {},
          "execution_count": 7
        }
      ]
    },
    {
      "cell_type": "code",
      "source": [
        "False"
      ],
      "metadata": {
        "colab": {
          "base_uri": "https://localhost:8080/"
        },
        "id": "V7rOzMM7mOMT",
        "outputId": "13bb815d-4334-45a7-e3ca-8b731d48b8e0"
      },
      "execution_count": null,
      "outputs": [
        {
          "output_type": "execute_result",
          "data": {
            "text/plain": [
              "False"
            ]
          },
          "metadata": {},
          "execution_count": 8
        }
      ]
    },
    {
      "cell_type": "code",
      "source": [
        "True and False"
      ],
      "metadata": {
        "colab": {
          "base_uri": "https://localhost:8080/"
        },
        "id": "VyRtJgMXmQbz",
        "outputId": "15a77a46-6559-4f56-b76c-f423aa11d2c6"
      },
      "execution_count": null,
      "outputs": [
        {
          "output_type": "execute_result",
          "data": {
            "text/plain": [
              "False"
            ]
          },
          "metadata": {},
          "execution_count": 9
        }
      ]
    },
    {
      "cell_type": "code",
      "source": [
        "True and True"
      ],
      "metadata": {
        "colab": {
          "base_uri": "https://localhost:8080/"
        },
        "id": "7ON-wW0wmTcM",
        "outputId": "90271269-16c3-459e-bc5b-e4e89a1704c5"
      },
      "execution_count": null,
      "outputs": [
        {
          "output_type": "execute_result",
          "data": {
            "text/plain": [
              "True"
            ]
          },
          "metadata": {},
          "execution_count": 10
        }
      ]
    },
    {
      "cell_type": "code",
      "source": [
        "False and False"
      ],
      "metadata": {
        "colab": {
          "base_uri": "https://localhost:8080/"
        },
        "id": "JW2qg_vhmWGk",
        "outputId": "f725b99e-1259-4bf2-f357-2440a5d1b2e6"
      },
      "execution_count": null,
      "outputs": [
        {
          "output_type": "execute_result",
          "data": {
            "text/plain": [
              "False"
            ]
          },
          "metadata": {},
          "execution_count": 11
        }
      ]
    },
    {
      "cell_type": "code",
      "source": [
        "True or False"
      ],
      "metadata": {
        "colab": {
          "base_uri": "https://localhost:8080/"
        },
        "id": "y48tJFrpmYdM",
        "outputId": "248eaca3-eee4-4d7e-c92a-0b14143cccc3"
      },
      "execution_count": null,
      "outputs": [
        {
          "output_type": "execute_result",
          "data": {
            "text/plain": [
              "True"
            ]
          },
          "metadata": {},
          "execution_count": 12
        }
      ]
    },
    {
      "cell_type": "code",
      "source": [
        "not True"
      ],
      "metadata": {
        "colab": {
          "base_uri": "https://localhost:8080/"
        },
        "id": "EH62LZiJmpyr",
        "outputId": "241f3390-3fdd-4de0-a285-dc53007ba5f9"
      },
      "execution_count": null,
      "outputs": [
        {
          "output_type": "execute_result",
          "data": {
            "text/plain": [
              "False"
            ]
          },
          "metadata": {},
          "execution_count": 13
        }
      ]
    },
    {
      "cell_type": "code",
      "source": [
        "type(True or False)"
      ],
      "metadata": {
        "colab": {
          "base_uri": "https://localhost:8080/"
        },
        "id": "71R1qupPm2jV",
        "outputId": "cb5c5079-90c2-426e-85a1-aca75893b5f9"
      },
      "execution_count": null,
      "outputs": [
        {
          "output_type": "execute_result",
          "data": {
            "text/plain": [
              "bool"
            ]
          },
          "metadata": {},
          "execution_count": 15
        }
      ]
    },
    {
      "cell_type": "code",
      "source": [
        "## Typecasting:\n",
        "bool(0)"
      ],
      "metadata": {
        "colab": {
          "base_uri": "https://localhost:8080/"
        },
        "id": "qGfckOIbm4or",
        "outputId": "7fb4f202-c9e0-4d12-a539-be7b503a52e8"
      },
      "execution_count": null,
      "outputs": [
        {
          "output_type": "execute_result",
          "data": {
            "text/plain": [
              "False"
            ]
          },
          "metadata": {},
          "execution_count": 21
        }
      ]
    },
    {
      "cell_type": "code",
      "source": [
        "bool(1)"
      ],
      "metadata": {
        "colab": {
          "base_uri": "https://localhost:8080/"
        },
        "id": "nrnouAlkpXER",
        "outputId": "67266111-77a4-40f5-9d83-852621f94f62"
      },
      "execution_count": null,
      "outputs": [
        {
          "output_type": "execute_result",
          "data": {
            "text/plain": [
              "True"
            ]
          },
          "metadata": {},
          "execution_count": 23
        }
      ]
    },
    {
      "cell_type": "code",
      "source": [
        "a=1\n",
        "if bool(a) == True:\n",
        "  print(a)\n"
      ],
      "metadata": {
        "colab": {
          "base_uri": "https://localhost:8080/"
        },
        "id": "-tgoGZNAnN0r",
        "outputId": "51fbae8d-2f77-416c-edfa-1d85699f32c1"
      },
      "execution_count": null,
      "outputs": [
        {
          "output_type": "stream",
          "name": "stdout",
          "text": [
            "1\n"
          ]
        }
      ]
    },
    {
      "cell_type": "code",
      "source": [
        "a=1\n",
        "if bool(a) == True:\n",
        "  print('True')"
      ],
      "metadata": {
        "colab": {
          "base_uri": "https://localhost:8080/"
        },
        "id": "JEc72K9XoMvg",
        "outputId": "dda2f917-3de6-4004-88cb-2fe4c28438fb"
      },
      "execution_count": null,
      "outputs": [
        {
          "output_type": "stream",
          "name": "stdout",
          "text": [
            "True\n"
          ]
        }
      ]
    },
    {
      "cell_type": "code",
      "source": [],
      "metadata": {
        "id": "eK8DtkOOokCk"
      },
      "execution_count": null,
      "outputs": []
    },
    {
      "cell_type": "markdown",
      "source": [
        "Dynamic Typing"
      ],
      "metadata": {
        "id": "r9_7QbxyqaO0"
      }
    },
    {
      "cell_type": "code",
      "source": [
        "## Concatenation between different types"
      ],
      "metadata": {
        "id": "bIb-ywBdqiqT"
      },
      "execution_count": null,
      "outputs": []
    },
    {
      "cell_type": "code",
      "source": [
        "\"1\""
      ],
      "metadata": {
        "colab": {
          "base_uri": "https://localhost:8080/",
          "height": 35
        },
        "id": "pXexDbUWr2TL",
        "outputId": "9e2584ae-9fb4-4bbe-f9fd-66810b48af0d"
      },
      "execution_count": null,
      "outputs": [
        {
          "output_type": "execute_result",
          "data": {
            "text/plain": [
              "'1'"
            ],
            "application/vnd.google.colaboratory.intrinsic+json": {
              "type": "string"
            }
          },
          "metadata": {},
          "execution_count": 26
        }
      ]
    },
    {
      "cell_type": "code",
      "source": [
        "\"1\" + \"1\""
      ],
      "metadata": {
        "colab": {
          "base_uri": "https://localhost:8080/",
          "height": 35
        },
        "id": "JuM6x3Uor3dP",
        "outputId": "8b400f51-ce1f-4404-f190-04db4d92610e"
      },
      "execution_count": null,
      "outputs": [
        {
          "output_type": "execute_result",
          "data": {
            "text/plain": [
              "'11'"
            ],
            "application/vnd.google.colaboratory.intrinsic+json": {
              "type": "string"
            }
          },
          "metadata": {},
          "execution_count": 27
        }
      ]
    },
    {
      "cell_type": "code",
      "source": [
        "int('1') +'1'"
      ],
      "metadata": {
        "colab": {
          "base_uri": "https://localhost:8080/",
          "height": 165
        },
        "id": "-Ga7NGQpsLqi",
        "outputId": "9cc65cee-61a4-4696-8d83-cbcf0fb743a1"
      },
      "execution_count": null,
      "outputs": [
        {
          "output_type": "error",
          "ename": "TypeError",
          "evalue": "ignored",
          "traceback": [
            "\u001b[0;31m---------------------------------------------------------------------------\u001b[0m",
            "\u001b[0;31mTypeError\u001b[0m                                 Traceback (most recent call last)",
            "\u001b[0;32m<ipython-input-28-af6473a67175>\u001b[0m in \u001b[0;36m<cell line: 1>\u001b[0;34m()\u001b[0m\n\u001b[0;32m----> 1\u001b[0;31m \u001b[0mint\u001b[0m\u001b[0;34m(\u001b[0m\u001b[0;34m'1'\u001b[0m\u001b[0;34m)\u001b[0m \u001b[0;34m+\u001b[0m\u001b[0;34m'1'\u001b[0m\u001b[0;34m\u001b[0m\u001b[0;34m\u001b[0m\u001b[0m\n\u001b[0m",
            "\u001b[0;31mTypeError\u001b[0m: unsupported operand type(s) for +: 'int' and 'str'"
          ]
        }
      ]
    },
    {
      "cell_type": "code",
      "source": [
        "\"1\"*100"
      ],
      "metadata": {
        "colab": {
          "base_uri": "https://localhost:8080/",
          "height": 35
        },
        "id": "3V6S8pXOsayb",
        "outputId": "bc66ed8c-10fe-40fa-e535-768db8fad2ee"
      },
      "execution_count": null,
      "outputs": [
        {
          "output_type": "execute_result",
          "data": {
            "text/plain": [
              "'1111111111111111111111111111111111111111111111111111111111111111111111111111111111111111111111111111'"
            ],
            "application/vnd.google.colaboratory.intrinsic+json": {
              "type": "string"
            }
          },
          "metadata": {},
          "execution_count": 29
        }
      ]
    },
    {
      "cell_type": "code",
      "source": [
        "print('My age is {age} and i have completed my degree {degree} with the name of {name}', format (age, degree, name))"
      ],
      "metadata": {
        "id": "HwABuukJsm9b",
        "colab": {
          "base_uri": "https://localhost:8080/",
          "height": 165
        },
        "outputId": "cfb1ff33-2ddc-4ca6-e82b-4b3ac4e67bda"
      },
      "execution_count": null,
      "outputs": [
        {
          "output_type": "error",
          "ename": "NameError",
          "evalue": "ignored",
          "traceback": [
            "\u001b[0;31m---------------------------------------------------------------------------\u001b[0m",
            "\u001b[0;31mNameError\u001b[0m                                 Traceback (most recent call last)",
            "\u001b[0;32m<ipython-input-2-595cd4ef8683>\u001b[0m in \u001b[0;36m<cell line: 1>\u001b[0;34m()\u001b[0m\n\u001b[0;32m----> 1\u001b[0;31m \u001b[0mprint\u001b[0m\u001b[0;34m(\u001b[0m\u001b[0;34m'My age is {age} and i have completed my degree {degree} with the name of {name}'\u001b[0m\u001b[0;34m,\u001b[0m \u001b[0mformat\u001b[0m \u001b[0;34m(\u001b[0m\u001b[0mage\u001b[0m\u001b[0;34m,\u001b[0m \u001b[0mdegree\u001b[0m\u001b[0;34m,\u001b[0m \u001b[0mname\u001b[0m\u001b[0;34m)\u001b[0m\u001b[0;34m)\u001b[0m\u001b[0;34m\u001b[0m\u001b[0;34m\u001b[0m\u001b[0m\n\u001b[0m",
            "\u001b[0;31mNameError\u001b[0m: name 'age' is not defined"
          ]
        }
      ]
    },
    {
      "cell_type": "code",
      "source": [],
      "metadata": {
        "id": "otPs_CIns9ie"
      },
      "execution_count": null,
      "outputs": []
    },
    {
      "cell_type": "markdown",
      "source": [],
      "metadata": {
        "id": "eog-fzl1t1o3"
      }
    },
    {
      "cell_type": "markdown",
      "source": [
        "## Control Flow\n",
        "### Decision Making Statements"
      ],
      "metadata": {
        "id": "UAIRUeVQt1sj"
      }
    },
    {
      "cell_type": "code",
      "source": [
        "## If Statements\n",
        "age=18\n",
        "if age>=18:\n",
        "  print('you are eligible to vote')"
      ],
      "metadata": {
        "colab": {
          "base_uri": "https://localhost:8080/"
        },
        "id": "sY2oJyAdt_ms",
        "outputId": "b80a6678-fe71-4ce1-bf7b-9f4af5265335"
      },
      "execution_count": null,
      "outputs": [
        {
          "output_type": "stream",
          "name": "stdout",
          "text": [
            "you are eligible to vote\n"
          ]
        }
      ]
    },
    {
      "cell_type": "code",
      "source": [
        "18<=18"
      ],
      "metadata": {
        "colab": {
          "base_uri": "https://localhost:8080/"
        },
        "id": "eMFNWbh5vcmP",
        "outputId": "400505aa-0c7a-4a76-83b3-2ed5d0e45dc3"
      },
      "execution_count": null,
      "outputs": [
        {
          "output_type": "execute_result",
          "data": {
            "text/plain": [
              "True"
            ]
          },
          "metadata": {},
          "execution_count": 7
        }
      ]
    },
    {
      "cell_type": "code",
      "source": [
        "19<18"
      ],
      "metadata": {
        "colab": {
          "base_uri": "https://localhost:8080/"
        },
        "id": "H9uFA2FOwbqk",
        "outputId": "354c1dc0-456a-4746-c78b-2ac85ddcdd78"
      },
      "execution_count": null,
      "outputs": [
        {
          "output_type": "execute_result",
          "data": {
            "text/plain": [
              "False"
            ]
          },
          "metadata": {},
          "execution_count": 8
        }
      ]
    },
    {
      "cell_type": "code",
      "source": [
        "19<19"
      ],
      "metadata": {
        "colab": {
          "base_uri": "https://localhost:8080/"
        },
        "id": "F3rOGFd8wjaM",
        "outputId": "d72b16aa-27bd-4cf4-ff2e-ee9842299736"
      },
      "execution_count": null,
      "outputs": [
        {
          "output_type": "execute_result",
          "data": {
            "text/plain": [
              "False"
            ]
          },
          "metadata": {},
          "execution_count": 9
        }
      ]
    },
    {
      "cell_type": "code",
      "source": [
        "input()"
      ],
      "metadata": {
        "colab": {
          "base_uri": "https://localhost:8080/",
          "height": 53
        },
        "id": "ZBIpEOetwmP0",
        "outputId": "2b84fdf5-e00b-49a5-cb12-e5d9165a6c57"
      },
      "execution_count": null,
      "outputs": [
        {
          "name": "stdout",
          "output_type": "stream",
          "text": [
            "Subir Ghosh\n"
          ]
        },
        {
          "output_type": "execute_result",
          "data": {
            "text/plain": [
              "'Subir Ghosh'"
            ],
            "application/vnd.google.colaboratory.intrinsic+json": {
              "type": "string"
            }
          },
          "metadata": {},
          "execution_count": 11
        }
      ]
    },
    {
      "cell_type": "code",
      "source": [
        "name = input(\"Subir Ghosh\")\n",
        "Print(name)"
      ],
      "metadata": {
        "colab": {
          "base_uri": "https://localhost:8080/"
        },
        "id": "jWY5f0Oxw978",
        "outputId": "c49d5f95-162c-4d0f-ed5c-fc8a6c231fe3"
      },
      "execution_count": null,
      "outputs": [
        {
          "name": "stdout",
          "output_type": "stream",
          "text": [
            "Subir GhoshSubir Ghosh\n"
          ]
        }
      ]
    },
    {
      "cell_type": "code",
      "source": [
        "age=int(input(\"Enter your age\"))\n"
      ],
      "metadata": {
        "colab": {
          "base_uri": "https://localhost:8080/"
        },
        "id": "nXuhEHq9xzuk",
        "outputId": "7a9a0fc0-728a-4776-f56f-69ca4ccf2ec4"
      },
      "execution_count": null,
      "outputs": [
        {
          "name": "stdout",
          "output_type": "stream",
          "text": [
            "Enter your age50\n"
          ]
        }
      ]
    },
    {
      "cell_type": "code",
      "source": [
        "age"
      ],
      "metadata": {
        "colab": {
          "base_uri": "https://localhost:8080/"
        },
        "id": "MNeQ7znWzuln",
        "outputId": "51f5eb77-86de-435e-dea4-0aed5392b34c"
      },
      "execution_count": null,
      "outputs": [
        {
          "output_type": "execute_result",
          "data": {
            "text/plain": [
              "50"
            ]
          },
          "metadata": {},
          "execution_count": 17
        }
      ]
    },
    {
      "cell_type": "code",
      "source": [
        "type(age)"
      ],
      "metadata": {
        "colab": {
          "base_uri": "https://localhost:8080/"
        },
        "id": "mYJtaIl9zFqV",
        "outputId": "a01eccd5-151b-45e3-edf2-efff18ce831b"
      },
      "execution_count": null,
      "outputs": [
        {
          "output_type": "execute_result",
          "data": {
            "text/plain": [
              "int"
            ]
          },
          "metadata": {},
          "execution_count": 16
        }
      ]
    },
    {
      "cell_type": "code",
      "source": [
        "type(50)"
      ],
      "metadata": {
        "colab": {
          "base_uri": "https://localhost:8080/"
        },
        "id": "96pNIp_kzgh7",
        "outputId": "383eccb3-a019-4933-afe7-2b607f8d1773"
      },
      "execution_count": null,
      "outputs": [
        {
          "output_type": "execute_result",
          "data": {
            "text/plain": [
              "int"
            ]
          },
          "metadata": {},
          "execution_count": 18
        }
      ]
    },
    {
      "cell_type": "code",
      "source": [
        "age=int(input(50))\n"
      ],
      "metadata": {
        "colab": {
          "base_uri": "https://localhost:8080/",
          "height": 311
        },
        "id": "qJnHnXf5z0SL",
        "outputId": "cbb20f57-a24f-46cf-fee1-47d69f0ab127"
      },
      "execution_count": null,
      "outputs": [
        {
          "output_type": "error",
          "ename": "KeyboardInterrupt",
          "evalue": "ignored",
          "traceback": [
            "\u001b[0;31m---------------------------------------------------------------------------\u001b[0m",
            "\u001b[0;31mKeyboardInterrupt\u001b[0m                         Traceback (most recent call last)",
            "\u001b[0;32m<ipython-input-19-19bc6edd58d4>\u001b[0m in \u001b[0;36m<cell line: 1>\u001b[0;34m()\u001b[0m\n\u001b[0;32m----> 1\u001b[0;31m \u001b[0mage\u001b[0m\u001b[0;34m=\u001b[0m\u001b[0mint\u001b[0m\u001b[0;34m(\u001b[0m\u001b[0minput\u001b[0m\u001b[0;34m(\u001b[0m\u001b[0;36m50\u001b[0m\u001b[0;34m)\u001b[0m\u001b[0;34m)\u001b[0m\u001b[0;34m\u001b[0m\u001b[0;34m\u001b[0m\u001b[0m\n\u001b[0m",
            "\u001b[0;32m/usr/local/lib/python3.10/dist-packages/ipykernel/kernelbase.py\u001b[0m in \u001b[0;36mraw_input\u001b[0;34m(self, prompt)\u001b[0m\n\u001b[1;32m    849\u001b[0m                 \u001b[0;34m\"raw_input was called, but this frontend does not support input requests.\"\u001b[0m\u001b[0;34m\u001b[0m\u001b[0;34m\u001b[0m\u001b[0m\n\u001b[1;32m    850\u001b[0m             )\n\u001b[0;32m--> 851\u001b[0;31m         return self._input_request(str(prompt),\n\u001b[0m\u001b[1;32m    852\u001b[0m             \u001b[0mself\u001b[0m\u001b[0;34m.\u001b[0m\u001b[0m_parent_ident\u001b[0m\u001b[0;34m,\u001b[0m\u001b[0;34m\u001b[0m\u001b[0;34m\u001b[0m\u001b[0m\n\u001b[1;32m    853\u001b[0m             \u001b[0mself\u001b[0m\u001b[0;34m.\u001b[0m\u001b[0m_parent_header\u001b[0m\u001b[0;34m,\u001b[0m\u001b[0;34m\u001b[0m\u001b[0;34m\u001b[0m\u001b[0m\n",
            "\u001b[0;32m/usr/local/lib/python3.10/dist-packages/ipykernel/kernelbase.py\u001b[0m in \u001b[0;36m_input_request\u001b[0;34m(self, prompt, ident, parent, password)\u001b[0m\n\u001b[1;32m    893\u001b[0m             \u001b[0;32mexcept\u001b[0m \u001b[0mKeyboardInterrupt\u001b[0m\u001b[0;34m:\u001b[0m\u001b[0;34m\u001b[0m\u001b[0;34m\u001b[0m\u001b[0m\n\u001b[1;32m    894\u001b[0m                 \u001b[0;31m# re-raise KeyboardInterrupt, to truncate traceback\u001b[0m\u001b[0;34m\u001b[0m\u001b[0;34m\u001b[0m\u001b[0m\n\u001b[0;32m--> 895\u001b[0;31m                 \u001b[0;32mraise\u001b[0m \u001b[0mKeyboardInterrupt\u001b[0m\u001b[0;34m(\u001b[0m\u001b[0;34m\"Interrupted by user\"\u001b[0m\u001b[0;34m)\u001b[0m \u001b[0;32mfrom\u001b[0m \u001b[0;32mNone\u001b[0m\u001b[0;34m\u001b[0m\u001b[0;34m\u001b[0m\u001b[0m\n\u001b[0m\u001b[1;32m    896\u001b[0m             \u001b[0;32mexcept\u001b[0m \u001b[0mException\u001b[0m \u001b[0;32mas\u001b[0m \u001b[0me\u001b[0m\u001b[0;34m:\u001b[0m\u001b[0;34m\u001b[0m\u001b[0;34m\u001b[0m\u001b[0m\n\u001b[1;32m    897\u001b[0m                 \u001b[0mself\u001b[0m\u001b[0;34m.\u001b[0m\u001b[0mlog\u001b[0m\u001b[0;34m.\u001b[0m\u001b[0mwarning\u001b[0m\u001b[0;34m(\u001b[0m\u001b[0;34m\"Invalid Message:\"\u001b[0m\u001b[0;34m,\u001b[0m \u001b[0mexc_info\u001b[0m\u001b[0;34m=\u001b[0m\u001b[0;32mTrue\u001b[0m\u001b[0;34m)\u001b[0m\u001b[0;34m\u001b[0m\u001b[0;34m\u001b[0m\u001b[0m\n",
            "\u001b[0;31mKeyboardInterrupt\u001b[0m: Interrupted by user"
          ]
        }
      ]
    },
    {
      "cell_type": "code",
      "source": [
        "## Task\n",
        "## Take a input of age\n",
        "## Check whether age is >=18 and <=32\n",
        "## Display amessage you are young blood"
      ],
      "metadata": {
        "id": "vUh3Y5lGz7_9"
      },
      "execution_count": null,
      "outputs": []
    },
    {
      "cell_type": "code",
      "source": [
        "## if else statements\n",
        "age=int(input(\"Enter the age\"))\n",
        "if age>=18 and age <45:\n",
        "  print(\"You are young blood\")\n",
        "else:\n",
        "  print(\"Thank you your application is rejected\")"
      ],
      "metadata": {
        "id": "9aRmc2XB2myW",
        "colab": {
          "base_uri": "https://localhost:8080/"
        },
        "outputId": "38e8f933-be27-4b3c-8bce-62a9a722492d"
      },
      "execution_count": null,
      "outputs": [
        {
          "output_type": "stream",
          "name": "stdout",
          "text": [
            "Enter the age17\n",
            "Thank you your application is rejected\n"
          ]
        }
      ]
    },
    {
      "cell_type": "code",
      "source": [
        "# mall - input the product price\n",
        "## product > 1000 rs. 20% off\n",
        "## print the product price offer after removing the discount\n",
        "## product <= 1000 rs. 30% off\n",
        "## print the product price offer after removing the discount\n"
      ],
      "metadata": {
        "id": "jhJ_vYWp0iyq"
      },
      "execution_count": null,
      "outputs": []
    },
    {
      "cell_type": "code",
      "source": [
        "product_price=int(input(\"Enter the price\"))\n",
        "if product_price>1000:\n",
        "  print(\"the price of the product is {}\".format(product_price*0.8))\n",
        "else:\n",
        "  print(\"the price of the product is {}\".format(product_price*0.7))"
      ],
      "metadata": {
        "id": "edWhRDhTE8uP",
        "colab": {
          "base_uri": "https://localhost:8080/"
        },
        "outputId": "44daf00e-d562-4098-c639-8382349e0c62"
      },
      "execution_count": null,
      "outputs": [
        {
          "output_type": "stream",
          "name": "stdout",
          "text": [
            "Enter the price2000\n",
            "the price of the product is 1600.0\n"
          ]
        }
      ]
    },
    {
      "cell_type": "code",
      "source": [
        "product_price=int(input(\"Enter the price\"))\n",
        "if product_price>1000:\n",
        "  print(f\"the price of the product is {product_price*0.8}\")\n",
        "else:\n",
        "  print(\"the price of the product is {}\".format(product_price*0.7))"
      ],
      "metadata": {
        "colab": {
          "base_uri": "https://localhost:8080/"
        },
        "id": "kvnIBFZcyJnx",
        "outputId": "0ee9f357-7127-450c-b1ba-be9830976fe6"
      },
      "execution_count": null,
      "outputs": [
        {
          "output_type": "stream",
          "name": "stdout",
          "text": [
            "Enter the price2000\n",
            "the price of the product is 1600.0\n"
          ]
        }
      ]
    },
    {
      "cell_type": "code",
      "source": [
        "product_price=int(input(\"Enter the price\"))\n",
        "if product_price>1000:\n",
        "  print(f\"the price of the product is {product_price*0.8}\")\n",
        "else:\n",
        "  print(\"the price of the product is {product_price*0.7}\")"
      ],
      "metadata": {
        "colab": {
          "base_uri": "https://localhost:8080/"
        },
        "id": "KGbHytXlz5ar",
        "outputId": "0eb21c99-8b64-46ba-9f3c-91f9d09abb82"
      },
      "execution_count": null,
      "outputs": [
        {
          "output_type": "stream",
          "name": "stdout",
          "text": [
            "Enter the price2000\n",
            "the price of the product is 1600.0\n"
          ]
        }
      ]
    },
    {
      "cell_type": "code",
      "source": [
        "# mall - input the product price\n",
        "## product > 3000 - 20% off\n",
        "## print the product price offer after removing the discount\n",
        "## product >= 2000 and <= 3000 - 30% off\n",
        "## print the product price offer after removing the discount\n",
        "## product <= 1000 and <= 2000 - 40% off\n",
        "## print the product price offer after removing the discount"
      ],
      "metadata": {
        "id": "jfiSS4CL4yeu"
      },
      "execution_count": null,
      "outputs": []
    },
    {
      "cell_type": "code",
      "source": [
        "product_price=int(input(\"Enter the price\"))\n",
        "if product_price>3000:\n",
        "  print(f\"the price of the product is {product_price*0.8}\")\n",
        "elif product_price >= 2000 and product_price <= 3000:\n",
        "  print(f\"the price of the product is {product_price*0.7}\")\n",
        "else:\n",
        "  print(f\"the price of the product is {product_price*0.6}\")"
      ],
      "metadata": {
        "colab": {
          "base_uri": "https://localhost:8080/"
        },
        "id": "XLzcEoxk34c0",
        "outputId": "bfe9fcc6-7865-45fb-f918-2e929cccc0cc"
      },
      "execution_count": null,
      "outputs": [
        {
          "output_type": "stream",
          "name": "stdout",
          "text": [
            "Enter the price5000\n",
            "the price of the product is 4000.0\n"
          ]
        }
      ]
    },
    {
      "cell_type": "code",
      "source": [
        "# mall - input the product price\n",
        "## product > 3000 - 20% off\n",
        "## print the product price offer after removing the discount\n",
        "## product >= 2000 and <= 3000 - 30% off\n",
        "## print the product price offer after removing the discount\n",
        "## product <= 100 and <= 2000 - 40% off\n",
        "## print the product price offer after removing the discount"
      ],
      "metadata": {
        "id": "I5M6IPG--6cU"
      },
      "execution_count": null,
      "outputs": []
    },
    {
      "cell_type": "code",
      "source": [
        "product_price=int(input(\"Enter the price\"))\n",
        "if product_price>3000:\n",
        "  print(f\"the price of the product is {product_price*0.8}\")\n",
        "elif product_price >= 2000 and product_price <= 3000:\n",
        "  print(f\"the price of the product is {product_price*0.7}\")\n",
        "elif product_price >= 100 and product_price <= 2000:\n",
        "   print(f\"the price of the product is {product_price*0.6}\")\n",
        "else:\n",
        "  print(f\"Lets drink tea\")"
      ],
      "metadata": {
        "colab": {
          "base_uri": "https://localhost:8080/"
        },
        "id": "TF1EARyDAhtz",
        "outputId": "8e1ab500-0b41-49cc-df0e-7a54ebb8f607"
      },
      "execution_count": null,
      "outputs": [
        {
          "output_type": "stream",
          "name": "stdout",
          "text": [
            "Enter the price55\n",
            "Lets drink tea\n"
          ]
        }
      ]
    },
    {
      "cell_type": "code",
      "source": [
        "# mall - input the product price\n",
        "## product > 3000 - 20% off\n",
        "## print the product price offer after removing the discount\n",
        "## product >= 2000 and <= 3000 - 30% off\n",
        "## print the product price offer after removing the discount\n",
        "## price == 2999 you will get an additional gift\n",
        "## product <= 100 and <= 2000 - 40% off\n",
        "## print the product price offer after removing the discount"
      ],
      "metadata": {
        "id": "yN62ZzEFBaUB"
      },
      "execution_count": 1,
      "outputs": []
    },
    {
      "cell_type": "code",
      "source": [
        "product_price=int(input(\"Enter the price\"))\n",
        "if product_price>3000:\n",
        "  print(f\"the price of the product is {product_price*0.8}\")\n",
        "elif product_price >= 2000 and product_price <= 3000:\n",
        "  print(f\"the price of the product is {product_price*0.7}\")\n",
        "if product_price==2999:\n",
        " print (f\"Congratulations you are getting a gift voucher\")\n",
        "elif product_price >= 100 and product_price <= 2000:\n",
        "   print(f\"the price of the product is {product_price*0.6}\")\n",
        "else:\n",
        "  print(f\"Lets drink tea\")"
      ],
      "metadata": {
        "colab": {
          "base_uri": "https://localhost:8080/"
        },
        "id": "I5k86yto3nwf",
        "outputId": "82c4c936-95f0-4b4d-848a-93fe81b748ac"
      },
      "execution_count": 13,
      "outputs": [
        {
          "output_type": "stream",
          "name": "stdout",
          "text": [
            "Enter the price2999\n",
            "the price of the product is 2099.2999999999997\n",
            "Congratulations you are getting a gift voucher\n"
          ]
        }
      ]
    },
    {
      "cell_type": "code",
      "source": [
        "# mall - input the product price\n",
        "## product > 3000 - 20% off\n",
        "## if price == 4000, you get a trip to Goa\n",
        "## print the product price offer after removing the discount\n",
        "## product >= 2000 and <= 3000 - 30% off\n",
        "## print the product price offer after removing the discount\n",
        "## price == 2999 you will get an additional gift\n",
        "## product <= 100 and <= 2000 - 40% off\n",
        "## print the product price offer after removing the discount"
      ],
      "metadata": {
        "id": "ZSsH5UiN4FTf"
      },
      "execution_count": 14,
      "outputs": []
    },
    {
      "cell_type": "code",
      "source": [
        "product_price=int(input(\"Enter the price\"))\n",
        "if product_price>3000:\n",
        "  print(f\"the price of the product is {product_price*0.8}\")\n",
        "if product_price ==4000:\n",
        "  print (f\"Congratulations You are getting Goa Trip\")\n",
        "elif product_price >= 2000 and product_price <= 3000:\n",
        "  print(f\"the price of the product is {product_price*0.7}\")\n",
        "if product_price==2999:\n",
        " print (f\"Congratulations you are getting a gift voucher\")\n",
        "elif product_price >= 100 and product_price <= 2000:\n",
        "   print(f\"the price of the product is {product_price*0.6}\")\n",
        "else:\n",
        "  print(f\"Lets drink tea\")"
      ],
      "metadata": {
        "colab": {
          "base_uri": "https://localhost:8080/"
        },
        "id": "oYOoaGiv6czX",
        "outputId": "3d2c1eb2-226d-4a91-c2ae-4cded5f7d5d6"
      },
      "execution_count": 17,
      "outputs": [
        {
          "output_type": "stream",
          "name": "stdout",
          "text": [
            "Enter the price4000\n",
            "the price of the product is 3200.0\n",
            "Congratulations You are getting Goa Trip\n",
            "Lets drink tea\n"
          ]
        }
      ]
    },
    {
      "cell_type": "code",
      "source": [
        "product_price=int(input(\"Enter the price\"))\n",
        "if product_price>3000:\n",
        "  print(f\"the price of the product is {product_price*0.8}\")\n",
        "if product_price ==4000:\n",
        "  print (f\"Congratulations You are getting Goa Trip\")\n",
        "elif product_price >= 2000 and product_price <= 3000:\n",
        "  print(f\"the price of the product is {product_price*0.7}\")\n",
        "if product_price==2999:\n",
        " print (f\"Congratulations you are getting a gift voucher\")\n",
        "elif product_price >= 100 and product_price <= 2000:\n",
        "   print(f\"the price of the product is {product_price*0.6}\")\n",
        "else:\n",
        "  print(f\"Lets drink tea\")\n",
        "  print(f\"I will also be there\")\n"
      ],
      "metadata": {
        "colab": {
          "base_uri": "https://localhost:8080/"
        },
        "id": "4U4M86Gy65I5",
        "outputId": "49efa35f-871f-4ee3-b2c5-b6e4436ad43a"
      },
      "execution_count": 18,
      "outputs": [
        {
          "output_type": "stream",
          "name": "stdout",
          "text": [
            "Enter the price55\n",
            "Lets drink tea\n",
            "I will also be there\n"
          ]
        }
      ]
    },
    {
      "cell_type": "code",
      "source": [
        "## Comparision Operator"
      ],
      "metadata": {
        "id": "GmhRBt8M7dvf"
      },
      "execution_count": 19,
      "outputs": []
    },
    {
      "cell_type": "code",
      "source": [
        "True==True"
      ],
      "metadata": {
        "colab": {
          "base_uri": "https://localhost:8080/"
        },
        "id": "aOBxTbOJ7uUe",
        "outputId": "051330da-4285-456e-e7e3-a165cae3c3b3"
      },
      "execution_count": 22,
      "outputs": [
        {
          "output_type": "execute_result",
          "data": {
            "text/plain": [
              "True"
            ]
          },
          "metadata": {},
          "execution_count": 22
        }
      ]
    },
    {
      "cell_type": "code",
      "source": [
        "## Single statement suites\n",
        "val=int(input(\"Enter the number\"))\n",
        "if (val<=999):print(\"value is less than equal to 999\")\n",
        "else:\n",
        "   print (\"Go Home\")"
      ],
      "metadata": {
        "colab": {
          "base_uri": "https://localhost:8080/"
        },
        "id": "1KOXkIz57wyL",
        "outputId": "676af0c9-5429-41a4-b423-db9a40910f6b"
      },
      "execution_count": 29,
      "outputs": [
        {
          "output_type": "stream",
          "name": "stdout",
          "text": [
            "Enter the number3000\n",
            "Go Home\n"
          ]
        }
      ]
    },
    {
      "cell_type": "code",
      "source": [],
      "metadata": {
        "id": "S-hKnMMV76oO"
      },
      "execution_count": null,
      "outputs": []
    }
  ]
}